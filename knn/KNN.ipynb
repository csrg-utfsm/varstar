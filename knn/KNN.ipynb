{
 "cells": [
  {
   "cell_type": "markdown",
   "metadata": {},
   "source": [
    "# K-Neirest-Neighbors of star"
   ]
  },
  {
   "cell_type": "markdown",
   "metadata": {},
   "source": [
    "Define path where stars files are located, and save their filenames in array."
   ]
  },
  {
   "cell_type": "code",
   "execution_count": 34,
   "metadata": {},
   "outputs": [],
   "source": [
    "from os import listdir\n",
    "from os.path import isfile, join\n",
    "import time\n",
    "from astropy.coordinates import SkyCoord\n",
    "from astropy import units as u\n",
    "from astropy.coordinates import Angle\n",
    "import numpy as np\n",
    "import pandas as pd \n",
    "from sklearn.neighbors import NearestNeighbors\n",
    "import matplotlib.pyplot as plt\n",
    "from ipywidgets import widgets, interact_manual\n",
    "import numpy as np\n",
    "import plotly.graph_objs as go\n",
    "import plotly.plotly as py\n",
    "from scipy.stats import linregress"
   ]
  },
  {
   "cell_type": "markdown",
   "metadata": {},
   "source": [
    "Format the data file"
   ]
  },
  {
   "cell_type": "code",
   "execution_count": 24,
   "metadata": {},
   "outputs": [],
   "source": [
    "import re\n",
    "fw = open('/home/andrea/Escritorio/Varstar/data.csv', 'w')\n",
    "i = 0\n",
    "with open('/home/andrea/Escritorio/Varstar/ACVS.1.1', 'r') as f:\n",
    "    for line in f:\n",
    "        if i == 0:\n",
    "            i=i+1\n",
    "            continue\n",
    "        elif i == 1:\n",
    "            l = 'ID,PER,HJD0,VMAX,VAMP,TYPE,GCVS_ID,GCVS_TYPE,IR12,IR25,IR60,IR100,J,H,K,V_IR12,V_J,V_H,V_K,J_H,H_K\\n'\n",
    "            fw.write(l)\n",
    "            i=i+1\n",
    "            continue\n",
    "        l = re.sub(' +', ',',line)\n",
    "        fw.write(l)"
   ]
  },
  {
   "cell_type": "code",
   "execution_count": 25,
   "metadata": {},
   "outputs": [
    {
     "data": {
      "text/html": [
       "<div>\n",
       "<style scoped>\n",
       "    .dataframe tbody tr th:only-of-type {\n",
       "        vertical-align: middle;\n",
       "    }\n",
       "\n",
       "    .dataframe tbody tr th {\n",
       "        vertical-align: top;\n",
       "    }\n",
       "\n",
       "    .dataframe thead th {\n",
       "        text-align: right;\n",
       "    }\n",
       "</style>\n",
       "<table border=\"1\" class=\"dataframe\">\n",
       "  <thead>\n",
       "    <tr style=\"text-align: right;\">\n",
       "      <th></th>\n",
       "      <th>ID</th>\n",
       "      <th>PER</th>\n",
       "      <th>HJD0</th>\n",
       "      <th>VMAX</th>\n",
       "      <th>VAMP</th>\n",
       "      <th>TYPE</th>\n",
       "      <th>GCVS_ID</th>\n",
       "      <th>GCVS_TYPE</th>\n",
       "      <th>IR12</th>\n",
       "      <th>IR25</th>\n",
       "      <th>...</th>\n",
       "      <th>IR100</th>\n",
       "      <th>J</th>\n",
       "      <th>H</th>\n",
       "      <th>K</th>\n",
       "      <th>V_IR12</th>\n",
       "      <th>V_J</th>\n",
       "      <th>V_H</th>\n",
       "      <th>V_K</th>\n",
       "      <th>J_H</th>\n",
       "      <th>H_K</th>\n",
       "    </tr>\n",
       "  </thead>\n",
       "  <tbody>\n",
       "    <tr>\n",
       "      <th>0</th>\n",
       "      <td>000006+2553.2</td>\n",
       "      <td>313.963337</td>\n",
       "      <td>0.00</td>\n",
       "      <td>8.56</td>\n",
       "      <td>4.05</td>\n",
       "      <td>MIRA</td>\n",
       "      <td>Z~Peg</td>\n",
       "      <td>M</td>\n",
       "      <td>-4.33</td>\n",
       "      <td>-3.38</td>\n",
       "      <td>...</td>\n",
       "      <td>-0.63</td>\n",
       "      <td>2.23</td>\n",
       "      <td>1.32</td>\n",
       "      <td>0.92</td>\n",
       "      <td>12.89</td>\n",
       "      <td>6.33</td>\n",
       "      <td>7.24</td>\n",
       "      <td>7.64</td>\n",
       "      <td>0.91</td>\n",
       "      <td>0.40</td>\n",
       "    </tr>\n",
       "    <tr>\n",
       "      <th>1</th>\n",
       "      <td>000007+1844.3</td>\n",
       "      <td>2.588900</td>\n",
       "      <td>2627.14</td>\n",
       "      <td>10.85</td>\n",
       "      <td>0.09</td>\n",
       "      <td>ESD/CW-FU/ACV/ED</td>\n",
       "      <td>DM~Peg</td>\n",
       "      <td>EA/D:</td>\n",
       "      <td>6.00</td>\n",
       "      <td>6.00</td>\n",
       "      <td>...</td>\n",
       "      <td>6.00</td>\n",
       "      <td>10.11</td>\n",
       "      <td>9.95</td>\n",
       "      <td>9.89</td>\n",
       "      <td>99.99</td>\n",
       "      <td>0.74</td>\n",
       "      <td>0.90</td>\n",
       "      <td>0.96</td>\n",
       "      <td>0.16</td>\n",
       "      <td>0.06</td>\n",
       "    </tr>\n",
       "    <tr>\n",
       "      <th>2</th>\n",
       "      <td>000007+2014.3</td>\n",
       "      <td>55.593929</td>\n",
       "      <td>0.00</td>\n",
       "      <td>9.07</td>\n",
       "      <td>0.85</td>\n",
       "      <td>MISC</td>\n",
       "      <td>EP~Peg</td>\n",
       "      <td>SR</td>\n",
       "      <td>-2.11</td>\n",
       "      <td>-1.09</td>\n",
       "      <td>...</td>\n",
       "      <td>0.00</td>\n",
       "      <td>4.03</td>\n",
       "      <td>3.08</td>\n",
       "      <td>2.56</td>\n",
       "      <td>11.17</td>\n",
       "      <td>5.04</td>\n",
       "      <td>5.99</td>\n",
       "      <td>6.51</td>\n",
       "      <td>0.95</td>\n",
       "      <td>0.52</td>\n",
       "    </tr>\n",
       "    <tr>\n",
       "      <th>3</th>\n",
       "      <td>000017+2636.4</td>\n",
       "      <td>381.698104</td>\n",
       "      <td>0.00</td>\n",
       "      <td>10.83</td>\n",
       "      <td>2.29</td>\n",
       "      <td>MIRA</td>\n",
       "      <td>AH~Peg</td>\n",
       "      <td>SRB</td>\n",
       "      <td>-0.34</td>\n",
       "      <td>0.64</td>\n",
       "      <td>...</td>\n",
       "      <td>0.00</td>\n",
       "      <td>7.35</td>\n",
       "      <td>6.54</td>\n",
       "      <td>6.18</td>\n",
       "      <td>11.17</td>\n",
       "      <td>3.48</td>\n",
       "      <td>4.29</td>\n",
       "      <td>4.65</td>\n",
       "      <td>0.81</td>\n",
       "      <td>0.36</td>\n",
       "    </tr>\n",
       "    <tr>\n",
       "      <th>4</th>\n",
       "      <td>000018+0919.4</td>\n",
       "      <td>43.068177</td>\n",
       "      <td>2023.40</td>\n",
       "      <td>10.52</td>\n",
       "      <td>0.11</td>\n",
       "      <td>MISC</td>\n",
       "      <td>-</td>\n",
       "      <td>-</td>\n",
       "      <td>6.00</td>\n",
       "      <td>6.00</td>\n",
       "      <td>...</td>\n",
       "      <td>6.00</td>\n",
       "      <td>8.55</td>\n",
       "      <td>8.04</td>\n",
       "      <td>7.94</td>\n",
       "      <td>99.99</td>\n",
       "      <td>1.97</td>\n",
       "      <td>2.48</td>\n",
       "      <td>2.58</td>\n",
       "      <td>0.51</td>\n",
       "      <td>0.10</td>\n",
       "    </tr>\n",
       "  </tbody>\n",
       "</table>\n",
       "<p>5 rows × 21 columns</p>\n",
       "</div>"
      ],
      "text/plain": [
       "              ID         PER     HJD0   VMAX  VAMP              TYPE GCVS_ID  \\\n",
       "0  000006+2553.2  313.963337     0.00   8.56  4.05              MIRA   Z~Peg   \n",
       "1  000007+1844.3    2.588900  2627.14  10.85  0.09  ESD/CW-FU/ACV/ED  DM~Peg   \n",
       "2  000007+2014.3   55.593929     0.00   9.07  0.85              MISC  EP~Peg   \n",
       "3  000017+2636.4  381.698104     0.00  10.83  2.29              MIRA  AH~Peg   \n",
       "4  000018+0919.4   43.068177  2023.40  10.52  0.11              MISC       -   \n",
       "\n",
       "  GCVS_TYPE  IR12  IR25  ...   IR100      J     H     K  V_IR12   V_J   V_H  \\\n",
       "0         M -4.33 -3.38  ...   -0.63   2.23  1.32  0.92   12.89  6.33  7.24   \n",
       "1     EA/D:  6.00  6.00  ...    6.00  10.11  9.95  9.89   99.99  0.74  0.90   \n",
       "2        SR -2.11 -1.09  ...    0.00   4.03  3.08  2.56   11.17  5.04  5.99   \n",
       "3       SRB -0.34  0.64  ...    0.00   7.35  6.54  6.18   11.17  3.48  4.29   \n",
       "4         -  6.00  6.00  ...    6.00   8.55  8.04  7.94   99.99  1.97  2.48   \n",
       "\n",
       "    V_K   J_H   H_K  \n",
       "0  7.64  0.91  0.40  \n",
       "1  0.96  0.16  0.06  \n",
       "2  6.51  0.95  0.52  \n",
       "3  4.65  0.81  0.36  \n",
       "4  2.58  0.51  0.10  \n",
       "\n",
       "[5 rows x 21 columns]"
      ]
     },
     "execution_count": 25,
     "metadata": {},
     "output_type": "execute_result"
    }
   ],
   "source": [
    "data = pd.read_csv(\"/home/andrea/Escritorio/Varstar/data.csv\") \n",
    "data.head()"
   ]
  },
  {
   "cell_type": "markdown",
   "metadata": {},
   "source": [
    "## Scikit-Learn"
   ]
  },
  {
   "cell_type": "markdown",
   "metadata": {},
   "source": [
    "Save coordinates (SkyCoord) of each star in array, for radec later use."
   ]
  },
  {
   "cell_type": "code",
   "execution_count": 26,
   "metadata": {},
   "outputs": [
    {
     "name": "stderr",
     "output_type": "stream",
     "text": [
      "WARNING: IllegalMinuteWarning: 'minute' was found  to be '60', which is not in range [0,60). Treating as 0 min, +1 hr/deg [astropy.coordinates.angle_utilities]\n"
     ]
    }
   ],
   "source": [
    "radec = []\n",
    "for f in data['ID']:\n",
    "    cra = Angle(f[0:2]+'h'+f[2:4]+'m'+f[4:6]+'s')\n",
    "    cdec = Angle(f[6:9]+'d'+f[9:11]+'m')\n",
    "    radec.append([cra.arcsecond, cdec.arcsecond])"
   ]
  },
  {
   "cell_type": "markdown",
   "metadata": {},
   "source": [
    "Scikit Learn consideres the self star as it's most nearest neighbor, so if we want to perform an all-in-all analysis, we'll have to declare n_neighbots=n+1, where n is the total quantity of stars."
   ]
  },
  {
   "cell_type": "code",
   "execution_count": 27,
   "metadata": {},
   "outputs": [],
   "source": [
    "def knn(n, t): # n neighbors, t upper limit of the dataframe\n",
    "    if (len(data) < t): \n",
    "        print(\"Invalid upper limit value\")\n",
    "        return\n",
    "    nbrs = NearestNeighbors(n_neighbors=n, algorithm='auto', metric='euclidean').fit(radec[:t])\n",
    "    _, indices = nbrs.kneighbors(radec)\n",
    "    return indices[:,1:]"
   ]
  },
  {
   "cell_type": "markdown",
   "metadata": {},
   "source": [
    "## Execution Time Widget"
   ]
  },
  {
   "cell_type": "markdown",
   "metadata": {},
   "source": [
    "Function for time"
   ]
  },
  {
   "cell_type": "code",
   "execution_count": 28,
   "metadata": {},
   "outputs": [],
   "source": [
    "def exTime(n, t):\n",
    "    start_time = time.time()\n",
    "    knn(n, t)\n",
    "    end_time = time.time()\n",
    "    return end_time - start_time"
   ]
  },
  {
   "cell_type": "markdown",
   "metadata": {},
   "source": [
    "dynamic plot for different star observed (neighbors) and different neighborhood sizes (stars)."
   ]
  },
  {
   "cell_type": "code",
   "execution_count": 32,
   "metadata": {},
   "outputs": [
    {
     "data": {
      "application/vnd.jupyter.widget-view+json": {
       "model_id": "a513c461a5ae4454930e8c120c406551",
       "version_major": 2,
       "version_minor": 0
      },
      "text/plain": [
       "interactive(children=(IntSlider(value=600, description='neighbors', max=10000, min=600, step=100), IntSlider(v…"
      ]
     },
     "metadata": {},
     "output_type": "display_data"
    },
    {
     "data": {
      "text/plain": [
       "<function __main__.y(neighbors, stars)>"
      ]
     },
     "execution_count": 32,
     "metadata": {},
     "output_type": "execute_result"
    }
   ],
   "source": [
    "%matplotlib inline\n",
    "\n",
    "# Función de gráfico\n",
    "def y(neighbors, stars):\n",
    "    times = exTime(neighbors, stars)\n",
    "    print(\"Number of starts:\", stars)\n",
    "    print(\"Number of neighbors:\", neighbors)\n",
    "    print(\"Execution time:\", times, \"[s]\")\n",
    "    return\n",
    "\n",
    "interact_manual(y, neighbors=widgets.IntSlider(min=600,max=10000,step=100,value=600), stars=widgets.IntSlider(min=600,max=len(radec),step=100,value=600))"
   ]
  },
  {
   "cell_type": "markdown",
   "metadata": {},
   "source": [
    "## Function Fit"
   ]
  },
  {
   "cell_type": "code",
   "execution_count": 33,
   "metadata": {},
   "outputs": [],
   "source": [
    "ne = []\n",
    "tms = []\n",
    "\n",
    "for i in range(1000,50000,1000):\n",
    "    ne.append(i)\n",
    "    tms.append(exTime(1000,i))"
   ]
  },
  {
   "cell_type": "code",
   "execution_count": 39,
   "metadata": {},
   "outputs": [
    {
     "data": {
      "text/html": [
       "<iframe id=\"igraph\" scrolling=\"no\" style=\"border:none;\" seamless=\"seamless\" src=\"https://plot.ly/~arodrigu/2.embed\" height=\"525px\" width=\"100%\"></iframe>"
      ],
      "text/plain": [
       "<plotly.tools.PlotlyDisplay object>"
      ]
     },
     "execution_count": 39,
     "metadata": {},
     "output_type": "execute_result"
    }
   ],
   "source": [
    "slope, intercept, r_value, p_value, std_err = linregress(ne, tms)\n",
    "f = lambda x: slope*x + intercept\n",
    "\n",
    "other_ne = np.linspace(1000, 50000, 1000)\n",
    "other_times = f(other_ne)\n",
    "\n",
    "trace1 = go.Scatter(\n",
    "    x=ne,\n",
    "    y=tms,\n",
    "    mode='markers',\n",
    "    name='Data',\n",
    "    marker=dict(\n",
    "        size=12\n",
    "    )\n",
    ")\n",
    "\n",
    "trace2 = go.Scatter(\n",
    "    x=other_ne,\n",
    "    y=other_times,\n",
    "    mode='lines',\n",
    "    name='Fit'\n",
    ")\n",
    "\n",
    "layout = go.Layout(\n",
    "    title='Lineal Fit in Python',\n",
    "    xaxis=dict(\n",
    "        title='neirest neighbors',\n",
    "    ),\n",
    "    yaxis=dict(\n",
    "        title='time (s)',\n",
    "    )\n",
    ")\n",
    "\n",
    "data = [trace1, trace2]\n",
    "fig = go.Figure(data=data, layout=layout)\n",
    "\n",
    "py.iplot(fig, filename='interpolation-and-extrapolation')"
   ]
  },
  {
   "cell_type": "markdown",
   "metadata": {},
   "source": [
    "A linear function fits the points. So we calculate the time for 50 million of stars with the given function."
   ]
  },
  {
   "cell_type": "code",
   "execution_count": 43,
   "metadata": {},
   "outputs": [
    {
     "name": "stdout",
     "output_type": "stream",
     "text": [
      "5572.34722139215 [s]\n"
     ]
    }
   ],
   "source": [
    "print(f(50000000), \"[s]\")"
   ]
  },
  {
   "cell_type": "markdown",
   "metadata": {},
   "source": [
    "which is approximately 92 minutes."
   ]
  },
  {
   "cell_type": "code",
   "execution_count": 64,
   "metadata": {},
   "outputs": [],
   "source": [
    "# TO DO: Tomar las coordenadas de la estrella N (radec[N]) y las coordenadas de las K estrellas vecinas."
   ]
  }
 ],
 "metadata": {
  "kernelspec": {
   "display_name": "Python 3",
   "language": "python",
   "name": "python3"
  },
  "language_info": {
   "codemirror_mode": {
    "name": "ipython",
    "version": 3
   },
   "file_extension": ".py",
   "mimetype": "text/x-python",
   "name": "python",
   "nbconvert_exporter": "python",
   "pygments_lexer": "ipython3",
   "version": "3.5.5"
  }
 },
 "nbformat": 4,
 "nbformat_minor": 2
}
